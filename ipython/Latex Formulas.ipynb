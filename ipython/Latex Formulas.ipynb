{
 "metadata": {
  "name": "Latex Formulas"
 },
 "nbformat": 3,
 "nbformat_minor": 0,
 "worksheets": [
  {
   "cells": [
    {
     "cell_type": "markdown",
     "metadata": {},
     "source": "Formula\n$$\\cos (2\\theta) = \\cos^2 \\theta - \\sin^2 \\theta $$\n\nFractions and Binomials\n$$ \\frac{n!}{k!(n-k)!} = \\binom{n}{k} $$\n\nPowers and indices\n$$k_{n+1} = n^2 + k_n^2 - k_{n-1}$$"
    },
    {
     "cell_type": "markdown",
     "metadata": {},
     "source": "$$c = \\sqrt{a^2 + b^2}$$"
    },
    {
     "cell_type": "markdown",
     "metadata": {},
     "source": "$$k_{n+1} = n^2 + k_n^2 - k_{n-1} $$"
    },
    {
     "cell_type": "code",
     "collapsed": false,
     "input": "from IPython.display import display, Math, Latex\ndisplay(Math(r'k_{n+1} = n^2 + k_n^2 - k_{n-1}'))",
     "language": "python",
     "metadata": {},
     "outputs": [
      {
       "latex": "$$k_{n+1} = n^2 + k_n^2 - k_{n-1}$$",
       "output_type": "display_data",
       "text": "<IPython.core.display.Math at 0xa14e3ac>"
      }
     ],
     "prompt_number": 6
    },
    {
     "cell_type": "code",
     "collapsed": false,
     "input": "from IPython.display import display, Math, Latex\ndisplay(Math(r'\\cos (2\\theta) = \\cos^2 \\theta - \\sin^2 \\theta'))\n",
     "language": "python",
     "metadata": {},
     "outputs": [
      {
       "latex": "$$\\cos (2\\theta) = \\cos^2 \\theta - \\sin^2 \\theta$$",
       "output_type": "display_data",
       "text": "<IPython.core.display.Math at 0xa14e46c>"
      }
     ],
     "prompt_number": 9
    },
    {
     "cell_type": "code",
     "collapsed": false,
     "input": "from IPython.display import display, Math, Latex\ndisplay(Math(r'F(k) = \\int_{-\\infty}^{\\infty} f(x) e^{2\\pi i k} dx'))",
     "language": "python",
     "metadata": {},
     "outputs": [
      {
       "latex": "$$F(k) = \\int_{-\\infty}^{\\infty} f(x) e^{2\\pi i k} dx$$",
       "output_type": "display_data",
       "text": "<IPython.core.display.Math at 0xa14e40c>"
      }
     ],
     "prompt_number": 10
    }
   ],
   "metadata": {}
  }
 ]
}